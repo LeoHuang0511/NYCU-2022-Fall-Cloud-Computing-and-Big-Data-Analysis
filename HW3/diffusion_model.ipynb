{
  "cells": [
    {
      "cell_type": "markdown",
      "metadata": {
        "id": "HhIgGq3za0yh"
      },
      "source": [
        "# A Diffusion Model from Scratch in Pytorch\n",
        "\n",
        "In this notebook I want to build a very simple (as few code as possible) Diffusion Model for generating car images. I will explain all the theoretical details in the YouTube video. \n",
        "\n",
        "\n",
        "**Sources:**\n",
        "- Github implementation [Denoising Diffusion Pytorch](https://github.com/lucidrains/denoising-diffusion-pytorch)\n",
        "- Niels Rogge, Kashif Rasul, [Huggingface notebook](https://colab.research.google.com/github/huggingface/notebooks/blob/main/examples/annotated_diffusion.ipynb#scrollTo=3a159023)\n",
        "- Papers on Diffusion models ([Dhariwal, Nichol, 2021], [Ho et al., 2020] ect.)\n"
      ]
    },
    {
      "cell_type": "markdown",
      "metadata": {
        "id": "ZF7wH4cE_JKY"
      },
      "source": [
        "# Building the Diffusion Model\n"
      ]
    },
    {
      "cell_type": "markdown",
      "metadata": {
        "id": "Rj17psVw7Shg"
      },
      "source": [
        "## Step 1: The forward process = Noise scheduler\n",
        "\n",
        "\n"
      ]
    },
    {
      "cell_type": "markdown",
      "metadata": {
        "id": "hqcoJ8ZlXE1i"
      },
      "source": [
        "We first need to build the inputs for our model, which are more and more noisy images. Instead of doing this sequentially, we can use the closed form provided in the papers to calculate the image for any of the timesteps individually. \n",
        "\n",
        "**Key Takeaways**:\n",
        "- The noise-levels/variances can be pre-computed\n",
        "- There are different types of variance schedules\n",
        "- We can sample each timestep image independently (Sums of Gaussians is also Gaussian)\n",
        "- No model is needed in this forward step"
      ]
    },
    {
      "cell_type": "code",
      "execution_count": 1,
      "metadata": {
        "id": "qWw50ui9IZ5q"
      },
      "outputs": [
        {
          "name": "stderr",
          "output_type": "stream",
          "text": [
            "/nfs/home/leo0511/CCBDA/HW3/CCBDA_HW3env/lib/python3.8/site-packages/tqdm/auto.py:22: TqdmWarning: IProgress not found. Please update jupyter and ipywidgets. See https://ipywidgets.readthedocs.io/en/stable/user_install.html\n",
            "  from .autonotebook import tqdm as notebook_tqdm\n"
          ]
        }
      ],
      "source": [
        "import torch.nn.functional as F\n",
        "import torch\n",
        "import torchvision\n",
        "import matplotlib.pyplot as plt\n",
        "from pytorch_gan_metrics import get_fid\n",
        "from torchvision.io import read_image\n",
        "device = \"cuda:3\"\n",
        "\n",
        "def linear_beta_schedule(timesteps, start=0.0001, end=0.02):\n",
        "    return torch.linspace(start, end, timesteps)\n",
        "\n",
        "def get_index_from_list(vals, t, x_shape):\n",
        "    \"\"\" \n",
        "    Returns a specific index t of a passed list of values vals\n",
        "    while considering the batch dimension.\n",
        "    \"\"\"\n",
        "    batch_size = t.shape[0]\n",
        "    out = vals.gather(-1, t.cpu())\n",
        "    return out.reshape(batch_size, *((1,) * (len(x_shape) - 1))).to(t.device)\n",
        "\n",
        "def forward_diffusion_sample(x_0, t, device=\"cpu\"):\n",
        "    \"\"\" \n",
        "    Takes an image and a timestep as input and \n",
        "    returns the noisy version of it\n",
        "    \"\"\"\n",
        "    noise = torch.randn_like(x_0)\n",
        "    sqrt_alphas_cumprod_t = get_index_from_list(sqrt_alphas_cumprod, t, x_0.shape)\n",
        "    sqrt_one_minus_alphas_cumprod_t = get_index_from_list(\n",
        "        sqrt_one_minus_alphas_cumprod, t, x_0.shape\n",
        "    )\n",
        "    # mean + variance\n",
        "    return sqrt_alphas_cumprod_t.to(device) * x_0.to(device) \\\n",
        "    + sqrt_one_minus_alphas_cumprod_t.to(device) * noise.to(device), noise.to(device)\n",
        "\n",
        "\n",
        "# Define beta schedule\n",
        "T = 1000\n",
        "betas = linear_beta_schedule(timesteps=T)\n",
        "\n",
        "# Pre-calculate different terms for closed form\n",
        "alphas = 1. - betas\n",
        "alphas_cumprod = torch.cumprod(alphas, axis=0)\n",
        "alphas_cumprod_prev = F.pad(alphas_cumprod[:-1], (1, 0), value=1.0)\n",
        "sqrt_recip_alphas = torch.sqrt(1.0 / alphas)\n",
        "sqrt_alphas_cumprod = torch.sqrt(alphas_cumprod)\n",
        "sqrt_one_minus_alphas_cumprod = torch.sqrt(1. - alphas_cumprod)\n",
        "posterior_variance = betas * (1. - alphas_cumprod_prev) / (1. - alphas_cumprod)"
      ]
    },
    {
      "cell_type": "code",
      "execution_count": 2,
      "metadata": {},
      "outputs": [
        {
          "name": "stdout",
          "output_type": "stream",
          "text": [
            "Number of dataset: 60000\n"
          ]
        }
      ],
      "source": [
        "import glob\n",
        "import os\n",
        "train_dir = './mnist'\n",
        "data_list = sorted(glob.glob(os.path.join(train_dir,'*png')))\n",
        "print('Number of dataset:',len(data_list))\n"
      ]
    },
    {
      "cell_type": "markdown",
      "metadata": {
        "id": "Vt6JSKawk7_b"
      },
      "source": [
        "Let's test it on our dataset ..."
      ]
    },
    {
      "cell_type": "code",
      "execution_count": 3,
      "metadata": {},
      "outputs": [],
      "source": [
        "from torch.utils.data import Dataset\n",
        "import os\n",
        "from PIL import Image\n",
        "\n",
        "class Dataset(Dataset):\n",
        "    def __init__(self, transform, root='./mnist' ):\n",
        "        self.paths = sorted(glob.glob(os.path.join(root, \"*.png\")))\n",
        "        print(\"number of training data: \", len(self.paths))\n",
        "        self.transform = transform\n",
        "        \n",
        "\n",
        "    def __len__(self):\n",
        "        return len(self.paths)\n",
        "\n",
        "    def __getitem__(self, idx):\n",
        "        img = Image.open(self.paths[idx])\n",
        "        img = self.transform(img)\n",
        "        #print(\"imag size\",img.shape)\n",
        "\n",
        "        return img"
      ]
    },
    {
      "cell_type": "code",
      "execution_count": 5,
      "metadata": {
        "id": "uuckjpW_k1LN"
      },
      "outputs": [
        {
          "name": "stdout",
          "output_type": "stream",
          "text": [
            "number of training data:  60000\n"
          ]
        }
      ],
      "source": [
        "from torchvision import transforms \n",
        "from torch.utils.data import DataLoader\n",
        "import numpy as np\n",
        "\n",
        "IMG_SIZE = 28\n",
        "BATCH_SIZE = 128\n",
        "\n",
        "def load_transformed_dataset():\n",
        "    data_transforms = [\n",
        "        transforms.Resize((IMG_SIZE, IMG_SIZE)),\n",
        "        transforms.RandomHorizontalFlip(),\n",
        "        transforms.ToTensor(), # Scales data into [0,1] \n",
        "        transforms.Lambda(lambda t: (t * 2) - 1) # Scale between [-1, 1] \n",
        "    ]\n",
        "    data_transform = transforms.Compose(data_transforms)\n",
        "\n",
        "    dataset = Dataset(transform=data_transform)\n",
        "\n",
        "    return dataset\n",
        "def show_tensor_image(image):\n",
        "    reverse_transforms = transforms.Compose([\n",
        "        transforms.Lambda(lambda t: (t + 1) / 2),\n",
        "        transforms.Lambda(lambda t: t.permute(1, 2, 0)), # CHW to HWC\n",
        "        transforms.Lambda(lambda t: t * 255.),\n",
        "        transforms.Lambda(lambda t: t.numpy().astype(np.uint8)),\n",
        "        transforms.ToPILImage(),\n",
        "    ])\n",
        "\n",
        "    # Take first image of batch\n",
        "    if len(image.shape) == 4:\n",
        "        image = image[0, :, :, :] \n",
        "    #print(\"image size \", reverse_transforms(image).size)\n",
        "    plt.imshow(reverse_transforms(image))\n",
        "    return reverse_transforms(image)\n",
        "\n",
        "data = load_transformed_dataset()\n",
        "dataloader = DataLoader(data, batch_size=BATCH_SIZE, shuffle=True, drop_last=True,num_workers=16)"
      ]
    },
    {
      "cell_type": "code",
      "execution_count": 6,
      "metadata": {
        "colab": {
          "base_uri": "https://localhost:8080/",
          "height": 116
        },
        "id": "2fUPyJghdoUA",
        "outputId": "0a71ca76-dc54-481f-b845-0409e37d2f68"
      },
      "outputs": [
        {
          "name": "stderr",
          "output_type": "stream",
          "text": [
            "/tmp/ipykernel_2320393/1217489402.py:11: MatplotlibDeprecationWarning: Auto-removal of overlapping axes is deprecated since 3.6 and will be removed two minor releases later; explicitly call ax.remove() as needed.\n",
            "  plt.subplot(1, num_images+1, int(idx/stepsize) + 1)\n"
          ]
        },
        {
          "data": {
            "image/png": "[encoded data removed]",
            "text/plain": [
              "<Figure size 1500x1500 with 10 Axes>"
            ]
          },
          "metadata": {},
          "output_type": "display_data"
        }
      ],
      "source": [
        "# Simulate forward diffusion\n",
        "image = next(iter(dataloader))[0]\n",
        "\n",
        "plt.figure(figsize=(15,15))\n",
        "plt.axis('off')\n",
        "num_images = 10\n",
        "stepsize = int(T/num_images)\n",
        "\n",
        "for idx in range(0, T, stepsize):\n",
        "    t = torch.Tensor([idx]).type(torch.int64)\n",
        "    plt.subplot(1, num_images+1, int(idx/stepsize) + 1)\n",
        "    image, noise = forward_diffusion_sample(image, t)\n",
        "    show_tensor_image(image)"
      ]
    },
    {
      "cell_type": "markdown",
      "metadata": {
        "id": "buW6BaNga-XH"
      },
      "source": [
        "## Step 2: The backward process = U-Net\n",
        "\n"
      ]
    },
    {
      "cell_type": "markdown",
      "metadata": {
        "id": "iYw6u0nJXIWy"
      },
      "source": [
        "For a great introduction to UNets, have a look at this post: https://amaarora.github.io/2020/09/13/unet.html.\n",
        "\n",
        "\n",
        "**Key Takeaways**:\n",
        "- We use a simple form of a UNet for to predict the noise in the image\n",
        "- The input is a noisy image, the ouput the noise in the image\n",
        "- Because the parameters are shared accross time, we need to tell the network in which timestep we are\n",
        "- The Timestep is encoded by the transformer Sinusoidal Embedding\n",
        "- We output one single value (mean), because the variance is fixed\n"
      ]
    },
    {
      "cell_type": "code",
      "execution_count": 6,
      "metadata": {
        "colab": {
          "base_uri": "https://localhost:8080/"
        },
        "id": "KOYPSxPf_LL7",
        "outputId": "54827b7e-b9c1-4ee5-d6da-07ec7d0e8af2"
      },
      "outputs": [
        {
          "name": "stdout",
          "output_type": "stream",
          "text": [
            "Num params:  3692003\n"
          ]
        },
        {
          "data": {
            "text/plain": [
              "SimpleUnet(\n",
              "  (time_mlp): Sequential(\n",
              "    (0): SinusoidalPositionEmbeddings()\n",
              "    (1): Linear(in_features=32, out_features=32, bias=True)\n",
              "    (2): ReLU()\n",
              "  )\n",
              "  (conv0): Conv2d(3, 64, kernel_size=(3, 3), stride=(1, 1), padding=(1, 1))\n",
              "  (downs): ModuleList(\n",
              "    (0): Block(\n",
              "      (time_mlp): Linear(in_features=32, out_features=128, bias=True)\n",
              "      (conv1): Conv2d(64, 128, kernel_size=(3, 3), stride=(1, 1), padding=(1, 1))\n",
              "      (transform): Conv2d(128, 128, kernel_size=(4, 4), stride=(2, 2), padding=(1, 1))\n",
              "      (conv2): Conv2d(128, 128, kernel_size=(3, 3), stride=(1, 1), padding=(1, 1))\n",
              "      (bnorm1): BatchNorm2d(128, eps=1e-05, momentum=0.1, affine=True, track_running_stats=True)\n",
              "      (bnorm2): BatchNorm2d(128, eps=1e-05, momentum=0.1, affine=True, track_running_stats=True)\n",
              "      (relu): ReLU()\n",
              "    )\n",
              "    (1): Block(\n",
              "      (time_mlp): Linear(in_features=32, out_features=256, bias=True)\n",
              "      (conv1): Conv2d(128, 256, kernel_size=(3, 3), stride=(1, 1), padding=(1, 1))\n",
              "      (transform): Conv2d(256, 256, kernel_size=(4, 4), stride=(2, 2), padding=(1, 1))\n",
              "      (conv2): Conv2d(256, 256, kernel_size=(3, 3), stride=(1, 1), padding=(1, 1))\n",
              "      (bnorm1): BatchNorm2d(256, eps=1e-05, momentum=0.1, affine=True, track_running_stats=True)\n",
              "      (bnorm2): BatchNorm2d(256, eps=1e-05, momentum=0.1, affine=True, track_running_stats=True)\n",
              "      (relu): ReLU()\n",
              "    )\n",
              "  )\n",
              "  (ups): ModuleList(\n",
              "    (0): Block(\n",
              "      (time_mlp): Linear(in_features=32, out_features=128, bias=True)\n",
              "      (conv1): Conv2d(512, 128, kernel_size=(3, 3), stride=(1, 1), padding=(1, 1))\n",
              "      (transform): ConvTranspose2d(128, 128, kernel_size=(4, 4), stride=(2, 2), padding=(1, 1))\n",
              "      (conv2): Conv2d(128, 128, kernel_size=(3, 3), stride=(1, 1), padding=(1, 1))\n",
              "      (bnorm1): BatchNorm2d(128, eps=1e-05, momentum=0.1, affine=True, track_running_stats=True)\n",
              "      (bnorm2): BatchNorm2d(128, eps=1e-05, momentum=0.1, affine=True, track_running_stats=True)\n",
              "      (relu): ReLU()\n",
              "    )\n",
              "    (1): Block(\n",
              "      (time_mlp): Linear(in_features=32, out_features=64, bias=True)\n",
              "      (conv1): Conv2d(256, 64, kernel_size=(3, 3), stride=(1, 1), padding=(1, 1))\n",
              "      (transform): ConvTranspose2d(64, 64, kernel_size=(4, 4), stride=(2, 2), padding=(1, 1))\n",
              "      (conv2): Conv2d(64, 64, kernel_size=(3, 3), stride=(1, 1), padding=(1, 1))\n",
              "      (bnorm1): BatchNorm2d(64, eps=1e-05, momentum=0.1, affine=True, track_running_stats=True)\n",
              "      (bnorm2): BatchNorm2d(64, eps=1e-05, momentum=0.1, affine=True, track_running_stats=True)\n",
              "      (relu): ReLU()\n",
              "    )\n",
              "  )\n",
              "  (output): Conv2d(64, 3, kernel_size=(1, 1), stride=(1, 1))\n",
              ")"
            ]
          },
          "execution_count": 6,
          "metadata": {},
          "output_type": "execute_result"
        }
      ],
      "source": [
        "from torch import nn\n",
        "import math\n",
        "\n",
        "\n",
        "class Block(nn.Module):\n",
        "    def __init__(self, in_ch, out_ch, time_emb_dim, up=False):\n",
        "        super().__init__()\n",
        "        self.time_mlp =  nn.Linear(time_emb_dim, out_ch)\n",
        "        if up:\n",
        "            self.conv1 = nn.Conv2d(2*in_ch, out_ch, 3, padding=1)\n",
        "            self.transform = nn.ConvTranspose2d(out_ch, out_ch, 4, 2, 1)\n",
        "        else:\n",
        "            self.conv1 = nn.Conv2d(in_ch, out_ch, 3, padding=1)\n",
        "            self.transform = nn.Conv2d(out_ch, out_ch, 4, 2, 1)\n",
        "        self.conv2 = nn.Conv2d(out_ch, out_ch, 3, padding=1)\n",
        "        self.bnorm1 = nn.BatchNorm2d(out_ch)\n",
        "        self.bnorm2 = nn.BatchNorm2d(out_ch)\n",
        "        self.relu  = nn.ReLU()\n",
        "        \n",
        "    def forward(self, x, t, ):\n",
        "        # First Conv\n",
        "        h = self.bnorm1(self.relu(self.conv1(x)))\n",
        "        # Time embedding\n",
        "        time_emb = self.relu(self.time_mlp(t))\n",
        "        # Extend last 2 dimensions\n",
        "        time_emb = time_emb[(..., ) + (None, ) * 2]\n",
        "        # Add time channel\n",
        "        h = h + time_emb\n",
        "        # Second Conv\n",
        "        h = self.bnorm2(self.relu(self.conv2(h)))\n",
        "        # Down or Upsample\n",
        "        return self.transform(h)\n",
        "\n",
        "\n",
        "class SinusoidalPositionEmbeddings(nn.Module):\n",
        "    def __init__(self, dim):\n",
        "        super().__init__()\n",
        "        self.dim = dim\n",
        "\n",
        "    def forward(self, time):\n",
        "        device = time.device\n",
        "        half_dim = self.dim // 2\n",
        "        embeddings = math.log(10000) / (half_dim - 1)\n",
        "        embeddings = torch.exp(torch.arange(half_dim, device=device) * -embeddings)\n",
        "        embeddings = time[:, None] * embeddings[None, :]\n",
        "        embeddings = torch.cat((embeddings.sin(), embeddings.cos()), dim=-1)\n",
        "        # TODO: Double check the ordering here\n",
        "        return embeddings\n",
        "\n",
        "\n",
        "class SimpleUnet(nn.Module):\n",
        "    \"\"\"\n",
        "    A simplified variant of the Unet architecture.\n",
        "    \"\"\"\n",
        "    def __init__(self):\n",
        "        super().__init__()\n",
        "        image_channels = 3\n",
        "        down_channels = (64, 128, 256)\n",
        "        up_channels = (256, 128, 64)\n",
        "        out_dim = 1 \n",
        "        time_emb_dim = 32\n",
        "\n",
        "        # Time embedding\n",
        "        self.time_mlp = nn.Sequential(\n",
        "                SinusoidalPositionEmbeddings(time_emb_dim),\n",
        "                nn.Linear(time_emb_dim, time_emb_dim),\n",
        "                nn.ReLU()\n",
        "            )\n",
        "        \n",
        "        # Initial projection\n",
        "        self.conv0 = nn.Conv2d(image_channels, down_channels[0], 3, padding=1)\n",
        "\n",
        "        # Downsample\n",
        "        self.downs = nn.ModuleList([Block(down_channels[i], down_channels[i+1], \\\n",
        "                                    time_emb_dim) \\\n",
        "                    for i in range(len(down_channels)-1)])\n",
        "        # Upsample\n",
        "        self.ups = nn.ModuleList([Block(up_channels[i], up_channels[i+1], \\\n",
        "                                        time_emb_dim, up=True) \\\n",
        "                    for i in range(len(up_channels)-1)])\n",
        "\n",
        "        self.output = nn.Conv2d(up_channels[-1], 3, out_dim)\n",
        "\n",
        "    def forward(self, x, timestep):\n",
        "        # Embedd time\n",
        "        t = self.time_mlp(timestep)\n",
        "        # Initial conv\n",
        "        x = self.conv0(x)\n",
        "        # Unet\n",
        "        residual_inputs = []\n",
        "        for down in self.downs:\n",
        "            x = down(x, t)\n",
        "            #print(\"x shape\",x.shape)\n",
        "            residual_inputs.append(x)\n",
        "        for up in self.ups:\n",
        "            residual_x = residual_inputs.pop()\n",
        "            #print(residual_x.shape)\n",
        "            # Add residual x as additional channels\n",
        "            x = torch.cat((x, residual_x), dim=1)           \n",
        "            x = up(x, t)\n",
        "        return self.output(x)\n",
        "\n",
        "model = SimpleUnet().to(device)\n",
        "x = torch.randn((1,3,28,28)).to(device)\n",
        "t = torch.randint(0, T, (1,)).long().to(device)\n",
        "model(x,t)\n",
        "print(\"Num params: \", sum(p.numel() for p in model.parameters()))\n",
        "model"
      ]
    },
    {
      "cell_type": "markdown",
      "metadata": {
        "id": "6tNzccxqWilM"
      },
      "source": [
        "\n",
        "**Further improvements that can be implemented:**\n",
        "- Residual connections\n",
        "- Different activation functions like SiLU, GWLU, ...\n",
        "- BatchNormalization \n",
        "- GroupNormalization\n",
        "- Attention\n",
        "- ..."
      ]
    },
    {
      "cell_type": "markdown",
      "metadata": {
        "id": "8B9GlZrotBXy"
      },
      "source": [
        "## Step 3: The loss\n",
        "\n"
      ]
    },
    {
      "cell_type": "markdown",
      "metadata": {
        "id": "ph05t8MxXMoY"
      },
      "source": [
        "**Key Takeaways:**\n",
        "- After some maths we end up with a very simple loss function\n",
        "- There are other possible choices like L2 loss ect.\n"
      ]
    },
    {
      "cell_type": "code",
      "execution_count": 8,
      "metadata": {
        "id": "Ed12NNXPtDon"
      },
      "outputs": [],
      "source": [
        "def get_loss(model, x_0, t):\n",
        "    x_noisy, noise = forward_diffusion_sample(x_0, t, device)\n",
        "    noise_pred = model(x_noisy, t)\n",
        "    return F.l1_loss(noise, noise_pred)"
      ]
    },
    {
      "cell_type": "markdown",
      "metadata": {
        "id": "i7AZkYjKgQTm"
      },
      "source": [
        "## Sampling\n",
        "- Without adding @torch.no_grad() we quickly run out of memory, because pytorch tacks all the previous images for gradient calculation \n",
        "- Because we pre-calculated the noise variances for the forward pass, we also have to use them when we sequentially perform the backward process"
      ]
    },
    {
      "cell_type": "code",
      "execution_count": 9,
      "metadata": {
        "id": "k13hj2mciCHA"
      },
      "outputs": [],
      "source": [
        "@torch.no_grad()\n",
        "def sample_timestep(x, t):\n",
        "    \"\"\"\n",
        "    Calls the model to predict the noise in the image and returns \n",
        "    the denoised image. \n",
        "    Applies noise to this image, if we are not in the last step yet.\n",
        "    \"\"\"\n",
        "    #print(x.device)\n",
        "    #print(t.device)\n",
        "    betas_t = get_index_from_list(betas, t, x.shape)\n",
        "    #print(\"a\")\n",
        "    sqrt_one_minus_alphas_cumprod_t = get_index_from_list(\n",
        "        sqrt_one_minus_alphas_cumprod, t, x.shape\n",
        "    )\n",
        "    #print(\"b\")\n",
        "    sqrt_recip_alphas_t = get_index_from_list(sqrt_recip_alphas, t, x.shape)\n",
        "    #print(\"c\")\n",
        "    # Call model (current image - noise prediction)\n",
        "    model_mean = sqrt_recip_alphas_t * (\n",
        "        x - betas_t * model(x, t) / sqrt_one_minus_alphas_cumprod_t\n",
        "    )\n",
        "    #print(\"d\")\n",
        "    posterior_variance_t = get_index_from_list(posterior_variance, t, x.shape)\n",
        "    \n",
        "    if t == 0:\n",
        "        return model_mean\n",
        "    else:\n",
        "        noise = torch.randn_like(x)\n",
        "        return model_mean + torch.sqrt(posterior_variance_t) * noise \n",
        "\n",
        "@torch.no_grad()\n",
        "def sample_plot_image():\n",
        "    # Sample noise\n",
        "    img_size = IMG_SIZE\n",
        "    img = torch.randn((1, 3, img_size, img_size), device=device)\n",
        "    #print(img.shape)\n",
        "\n",
        "    plt.figure(figsize=(15,15))\n",
        "    plt.axis('off')\n",
        "    num_images = 8\n",
        "    stepsize = int(T/num_images)\n",
        "\n",
        "    for i in range(0,T)[::-1]:\n",
        "        t = torch.full((1,), i, device=device, dtype=torch.long)\n",
        "        print(t)\n",
        "        img = sample_timestep(img, t)\n",
        "        if i % stepsize == 0:\n",
        "            plt.subplot(1, num_images, int(i/stepsize+1))\n",
        "            show_tensor_image(img.detach().cpu())\n",
        "    plt.show()            \n",
        "    return img\n",
        "\n",
        "@torch.no_grad()\n",
        "def test():\n",
        "    # Sample noise\n",
        "    img_size = IMG_SIZE\n",
        "    img = torch.randn((1, 3, img_size, img_size), device=device)\n",
        "    #plt.figure(figsize=(15,15))\n",
        "    #plt.axis('off')\n",
        "    num_images = 1000\n",
        "    t = torch.full((1,), 0, device=device, dtype=torch.long)\n",
        "    #stepsize = int(T/num_images)\n",
        "    imgs = []\n",
        "    for i in range(num_images):\n",
        "        imgs.append(sample_timestep(img, t))\n",
        "    FID = get_fid(imgs, './mnist.npz')\n",
        "                \n",
        "    return FID"
      ]
    },
    {
      "cell_type": "markdown",
      "metadata": {
        "id": "BIc33L9-uK4q"
      },
      "source": [
        "## Training"
      ]
    },
    {
      "cell_type": "code",
      "execution_count": 14,
      "metadata": {
        "colab": {
          "base_uri": "https://localhost:8080/",
          "height": 1000
        },
        "id": "bpN_LKYwuLx0",
        "outputId": "297f1c2c-4548-4e0a-84b6-7f6cd6234875"
      },
      "outputs": [
        {
          "name": "stderr",
          "output_type": "stream",
          "text": [
            "Training:   0%|                                                             | 0/468 [00:00<?, ?it/s]"
          ]
        },
        {
          "name": "stdout",
          "output_type": "stream",
          "text": [
            "torch.Size([128])\n",
            "torch.Size([128, 3, 28, 28])\n"
          ]
        },
        {
          "name": "stderr",
          "output_type": "stream",
          "text": [
            "Training:   1%|▏                                    | 3/468 [00:07<15:02,  1.94s/it, loss_b: 0.7126]"
          ]
        },
        {
          "name": "stdout",
          "output_type": "stream",
          "text": [
            "torch.Size([128])\n",
            "torch.Size([128, 3, 28, 28])\n",
            "torch.Size([128])\n",
            "torch.Size([128, 3, 28, 28])\n",
            "torch.Size([128])\n",
            "torch.Size([128, 3, 28, 28])\n"
          ]
        },
        {
          "name": "stderr",
          "output_type": "stream",
          "text": [
            "Training:   1%|▌                                    | 7/468 [00:07<04:32,  1.69it/s, loss_b: 0.5913]"
          ]
        },
        {
          "name": "stdout",
          "output_type": "stream",
          "text": [
            "torch.Size([128])\n",
            "torch.Size([128, 3, 28, 28])\n",
            "torch.Size([128])\n",
            "torch.Size([128, 3, 28, 28])\n",
            "torch.Size([128])\n",
            "torch.Size([128, 3, 28, 28])\n",
            "torch.Size([128])\n",
            "torch.Size([128, 3, 28, 28])\n"
          ]
        },
        {
          "name": "stderr",
          "output_type": "stream",
          "text": [
            "Training:   2%|▊                                   | 11/468 [00:07<02:06,  3.62it/s, loss_b: 0.4672]"
          ]
        },
        {
          "name": "stdout",
          "output_type": "stream",
          "text": [
            "torch.Size([128])\n",
            "torch.Size([128, 3, 28, 28])\n",
            "torch.Size([128])\n",
            "torch.Size([128, 3, 28, 28])\n",
            "torch.Size([128])\n",
            "torch.Size([128, 3, 28, 28])\n",
            "torch.Size([128])\n",
            "torch.Size([128, 3, 28, 28])\n"
          ]
        },
        {
          "name": "stderr",
          "output_type": "stream",
          "text": [
            "Training:   3%|█                                   | 13/468 [00:08<01:34,  4.84it/s, loss_b: 0.4307]"
          ]
        },
        {
          "name": "stdout",
          "output_type": "stream",
          "text": [
            "torch.Size([128])\n",
            "torch.Size([128, 3, 28, 28])\n",
            "torch.Size([128])\n",
            "torch.Size([128, 3, 28, 28])\n",
            "torch.Size([128])\n",
            "torch.Size([128, 3, 28, 28])\n"
          ]
        },
        {
          "name": "stderr",
          "output_type": "stream",
          "text": [
            "Training:   4%|█▎                                  | 17/468 [00:08<00:59,  7.53it/s, loss_b: 0.4042]"
          ]
        },
        {
          "name": "stdout",
          "output_type": "stream",
          "text": [
            "torch.Size([128])\n",
            "torch.Size([128, 3, 28, 28])\n",
            "torch.Size([128])\n",
            "torch.Size([128, 3, 28, 28])\n",
            "torch.Size([128])\n",
            "torch.Size([128, 3, 28, 28])\n",
            "torch.Size([128])\n",
            "torch.Size([128, 3, 28, 28])\n"
          ]
        },
        {
          "name": "stderr",
          "output_type": "stream",
          "text": [
            "Training:   4%|█▌                                  | 21/468 [00:08<00:43, 10.38it/s, loss_b: 0.3504]"
          ]
        },
        {
          "name": "stdout",
          "output_type": "stream",
          "text": [
            "torch.Size([128])\n",
            "torch.Size([128, 3, 28, 28])\n",
            "torch.Size([128])\n",
            "torch.Size([128, 3, 28, 28])\n",
            "torch.Size([128])\n",
            "torch.Size([128, 3, 28, 28])\n",
            "torch.Size([128])\n",
            "torch.Size([128, 3, 28, 28])\n"
          ]
        },
        {
          "name": "stderr",
          "output_type": "stream",
          "text": [
            "Training:   5%|█▊                                  | 24/468 [00:08<00:34, 12.75it/s, loss_b: 0.3375]"
          ]
        },
        {
          "name": "stdout",
          "output_type": "stream",
          "text": [
            "torch.Size([128])\n",
            "torch.Size([128, 3, 28, 28])\n",
            "torch.Size([128])\n",
            "torch.Size([128, 3, 28, 28])\n",
            "torch.Size([128])\n",
            "torch.Size([128, 3, 28, 28])\n"
          ]
        },
        {
          "name": "stderr",
          "output_type": "stream",
          "text": [
            "Training:   6%|██▏                                 | 28/468 [00:09<00:32, 13.42it/s, loss_b: 0.3026]"
          ]
        },
        {
          "name": "stdout",
          "output_type": "stream",
          "text": [
            "torch.Size([128])\n",
            "torch.Size([128, 3, 28, 28])\n",
            "torch.Size([128])\n",
            "torch.Size([128, 3, 28, 28])\n",
            "torch.Size([128])\n",
            "torch.Size([128, 3, 28, 28])\n"
          ]
        },
        {
          "name": "stderr",
          "output_type": "stream",
          "text": [
            "Training:   6%|██▎                                 | 30/468 [00:09<00:32, 13.29it/s, loss_b: 0.2911]"
          ]
        },
        {
          "name": "stdout",
          "output_type": "stream",
          "text": [
            "torch.Size([128])\n",
            "torch.Size([128, 3, 28, 28])\n",
            "torch.Size([128])\n",
            "torch.Size([128, 3, 28, 28])\n",
            "torch.Size([128])\n",
            "torch.Size([128, 3, 28, 28])\n"
          ]
        },
        {
          "name": "stderr",
          "output_type": "stream",
          "text": [
            "Training:   7%|██▌                                 | 34/468 [00:09<00:30, 14.05it/s, loss_b: 0.2770]"
          ]
        },
        {
          "name": "stdout",
          "output_type": "stream",
          "text": [
            "torch.Size([128])\n",
            "torch.Size([128, 3, 28, 28])\n",
            "torch.Size([128])\n",
            "torch.Size([128, 3, 28, 28])\n",
            "torch.Size([128])\n",
            "torch.Size([128, 3, 28, 28])\n",
            "torch.Size([128])\n",
            "torch.Size([128, 3, 28, 28])\n"
          ]
        },
        {
          "name": "stderr",
          "output_type": "stream",
          "text": [
            "Training:   8%|██▉                                 | 38/468 [00:09<00:29, 14.46it/s, loss_b: 0.2671]"
          ]
        },
        {
          "name": "stdout",
          "output_type": "stream",
          "text": [
            "torch.Size([128])\n",
            "torch.Size([128, 3, 28, 28])\n",
            "torch.Size([128])\n",
            "torch.Size([128, 3, 28, 28])\n",
            "torch.Size([128])\n",
            "torch.Size([128, 3, 28, 28])\n"
          ]
        },
        {
          "name": "stderr",
          "output_type": "stream",
          "text": [
            "Training:   9%|███                                 | 40/468 [00:09<00:30, 14.21it/s, loss_b: 0.2447]"
          ]
        },
        {
          "name": "stdout",
          "output_type": "stream",
          "text": [
            "torch.Size([128])\n",
            "torch.Size([128, 3, 28, 28])\n",
            "torch.Size([128])\n",
            "torch.Size([128, 3, 28, 28])\n",
            "torch.Size([128])\n",
            "torch.Size([128, 3, 28, 28])\n"
          ]
        },
        {
          "name": "stderr",
          "output_type": "stream",
          "text": [
            "Training:   9%|███▍                                | 44/468 [00:10<00:29, 14.20it/s, loss_b: 0.2406]"
          ]
        },
        {
          "name": "stdout",
          "output_type": "stream",
          "text": [
            "torch.Size([128])\n",
            "torch.Size([128, 3, 28, 28])\n",
            "torch.Size([128])\n",
            "torch.Size([128, 3, 28, 28])\n",
            "torch.Size([128])\n",
            "torch.Size([128, 3, 28, 28])\n"
          ]
        },
        {
          "name": "stderr",
          "output_type": "stream",
          "text": [
            "Training:  10%|███▋                                | 48/468 [00:10<00:26, 15.98it/s, loss_b: 0.2969]"
          ]
        },
        {
          "name": "stdout",
          "output_type": "stream",
          "text": [
            "torch.Size([128])\n",
            "torch.Size([128, 3, 28, 28])\n",
            "torch.Size([128])\n",
            "torch.Size([128, 3, 28, 28])\n",
            "torch.Size([128])\n",
            "torch.Size([128, 3, 28, 28])\n",
            "torch.Size([128])\n",
            "torch.Size([128, 3, 28, 28])\n"
          ]
        },
        {
          "name": "stderr",
          "output_type": "stream",
          "text": [
            "Training:  11%|███▊                                | 50/468 [00:10<00:27, 15.48it/s, loss_b: 0.3173]"
          ]
        },
        {
          "name": "stdout",
          "output_type": "stream",
          "text": [
            "torch.Size([128])\n",
            "torch.Size([128, 3, 28, 28])\n",
            "torch.Size([128])\n",
            "torch.Size([128, 3, 28, 28])\n",
            "torch.Size([128])\n",
            "torch.Size([128, 3, 28, 28])\n"
          ]
        },
        {
          "name": "stderr",
          "output_type": "stream",
          "text": [
            "Training:  12%|████▏                               | 54/468 [00:10<00:27, 14.88it/s, loss_b: 0.3174]"
          ]
        },
        {
          "name": "stdout",
          "output_type": "stream",
          "text": [
            "torch.Size([128])\n",
            "torch.Size([128, 3, 28, 28])\n",
            "torch.Size([128])\n",
            "torch.Size([128, 3, 28, 28])\n",
            "torch.Size([128])\n",
            "torch.Size([128, 3, 28, 28])\n",
            "torch.Size([128])\n",
            "torch.Size([128, 3, 28, 28])\n"
          ]
        },
        {
          "name": "stderr",
          "output_type": "stream",
          "text": [
            "Training:  12%|████▍                               | 58/468 [00:11<00:27, 15.04it/s, loss_b: 0.3031]"
          ]
        },
        {
          "name": "stdout",
          "output_type": "stream",
          "text": [
            "torch.Size([128])\n",
            "torch.Size([128, 3, 28, 28])\n",
            "torch.Size([128])\n",
            "torch.Size([128, 3, 28, 28])\n",
            "torch.Size([128])\n",
            "torch.Size([128, 3, 28, 28])\n",
            "torch.Size([128])\n",
            "torch.Size([128, 3, 28, 28])\n"
          ]
        },
        {
          "name": "stderr",
          "output_type": "stream",
          "text": [
            "Training:  13%|████▌                               | 59/468 [00:11<01:18,  5.21it/s, loss_b: 0.3031]\n"
          ]
        },
        {
          "ename": "KeyboardInterrupt",
          "evalue": "",
          "output_type": "error",
          "traceback": [
            "\u001b[0;31m---------------------------------------------------------------------------\u001b[0m",
            "\u001b[0;31mKeyboardInterrupt\u001b[0m                         Traceback (most recent call last)",
            "Cell \u001b[0;32mIn [14], line 22\u001b[0m\n\u001b[1;32m     20\u001b[0m   running_loss \u001b[39m+\u001b[39m\u001b[39m=\u001b[39m loss_b\n\u001b[1;32m     21\u001b[0m   optimizer\u001b[39m.\u001b[39mstep()\n\u001b[0;32m---> 22\u001b[0m   pbar\u001b[39m.\u001b[39mset_postfix_str(\u001b[39mf\u001b[39m\u001b[39m\"\u001b[39m\u001b[39mloss_b: \u001b[39m\u001b[39m{\u001b[39;00mloss_b\u001b[39m:\u001b[39;00m\u001b[39m.4f\u001b[39m\u001b[39m}\u001b[39;00m\u001b[39m\"\u001b[39m)\n\u001b[1;32m     23\u001b[0m   pbar\u001b[39m.\u001b[39mupdate(\u001b[39m1\u001b[39m)\n\u001b[1;32m     24\u001b[0m loss \u001b[39m=\u001b[39m running_loss\u001b[39m/\u001b[39m\u001b[39mfloat\u001b[39m(len_train_data)\n",
            "File \u001b[0;32m~/CCBDA/HW3/CCBDA_HW3env/lib/python3.8/site-packages/torch/_tensor.py:857\u001b[0m, in \u001b[0;36mTensor.__format__\u001b[0;34m(self, format_spec)\u001b[0m\n\u001b[1;32m    855\u001b[0m     \u001b[39mreturn\u001b[39;00m handle_torch_function(Tensor\u001b[39m.\u001b[39m\u001b[39m__format__\u001b[39m, (\u001b[39mself\u001b[39m,), \u001b[39mself\u001b[39m, format_spec)\n\u001b[1;32m    856\u001b[0m \u001b[39mif\u001b[39;00m \u001b[39mself\u001b[39m\u001b[39m.\u001b[39mdim() \u001b[39m==\u001b[39m \u001b[39m0\u001b[39m \u001b[39mand\u001b[39;00m \u001b[39mnot\u001b[39;00m \u001b[39mself\u001b[39m\u001b[39m.\u001b[39mis_meta \u001b[39mand\u001b[39;00m \u001b[39mtype\u001b[39m(\u001b[39mself\u001b[39m) \u001b[39mis\u001b[39;00m Tensor:\n\u001b[0;32m--> 857\u001b[0m     \u001b[39mreturn\u001b[39;00m \u001b[39mself\u001b[39;49m\u001b[39m.\u001b[39;49mitem()\u001b[39m.\u001b[39m\u001b[39m__format__\u001b[39m(format_spec)\n\u001b[1;32m    858\u001b[0m \u001b[39mreturn\u001b[39;00m \u001b[39mobject\u001b[39m\u001b[39m.\u001b[39m\u001b[39m__format__\u001b[39m(\u001b[39mself\u001b[39m, format_spec)\n",
            "\u001b[0;31mKeyboardInterrupt\u001b[0m: "
          ]
        }
      ],
      "source": [
        "from torch.optim import Adam\n",
        "from tqdm import tqdm\n",
        "\n",
        "device = \"cuda:0\" if torch.cuda.is_available() else \"cpu\"\n",
        "model.to(device)\n",
        "optimizer = Adam(model.parameters(), lr=0.001)\n",
        "epochs = 100 # Try more!\n",
        "len_train_data = len(dataloader)\n",
        "for epoch in range(epochs):\n",
        "    running_loss = 0.0\n",
        "    with tqdm(total=len_train_data, ncols=100, position=0, leave=True, desc=\"Training: \") as pbar:\n",
        "      for step, batch in enumerate(dataloader):\n",
        "        optimizer.zero_grad()\n",
        "\n",
        "        t = torch.randint(0, T, (BATCH_SIZE,), device=device).long()\n",
        "        print(t.shape)\n",
        "        print(batch.shape)\n",
        "        loss_b = get_loss(model, batch, t)\n",
        "        loss_b.backward()\n",
        "        running_loss += loss_b\n",
        "        optimizer.step()\n",
        "        pbar.set_postfix_str(f\"loss_b: {loss_b:.4f}\")\n",
        "        pbar.update(1)\n",
        "      loss = running_loss/float(len_train_data)\n",
        "\n",
        "    if epoch % 5 == 0 and step == 0:\n",
        "      print(f\"Epoch {epoch} | step {step:03d} Loss: {loss.item()} \")\n",
        "      sample_plot_image()\n",
        "    \n",
        "    print(\", \".join([\n",
        "            f\"Epoch {epoch:3d}/{args.epochs:3d}\",\n",
        "            f\"train_loss: {loss:.4f}\",\n",
        "            f\"val_loss: {val_loss:.4f}\",\n",
        "            f\"test_acc: {acc:.4f}\",\n",
        "            f\"lr: {current_lr}\"\n",
        "        ]))\n",
        "      "
      ]
    },
    {
      "cell_type": "code",
      "execution_count": 10,
      "metadata": {},
      "outputs": [
        {
          "data": {
            "text/plain": [
              "25753.156752750958"
            ]
          },
          "execution_count": 10,
          "metadata": {},
          "output_type": "execute_result"
        }
      ],
      "source": [
        "@torch.no_grad()\n",
        "def test(model, device, IMG_SIZE, betas, sqrt_one_minus_alphas_cumprod, sqrt_recip_alphas,posterior_variance):\n",
        "    # Sample noise\n",
        "    img_size = IMG_SIZE\n",
        "    \n",
        "    #plt.figure(figsize=(15,15))\n",
        "    #plt.axis('off')\n",
        "    num_images = 2\n",
        "    #t = torch.full((1,), 0, device=device, dtype=torch.long)\n",
        "    #stepsize = int(T/num_images)\n",
        "    \n",
        "    imgs = torch.randn((2, 3, img_size, img_size), device=device)\n",
        "        \n",
        "        #print(imgs.shape)\n",
        "    for i in range(0,T)[::-1]:\n",
        "        t = torch.full((1,), i, device=device, dtype=torch.long)\n",
        "        #print(model(img,t).shape)\n",
        "        imgs = sample_timestep(imgs, t)\n",
        "\n",
        "        #print(t.device)\n",
        "        #print(img.shape)\n",
        "        #print(t.shape)\n",
        "        #imgs.append(img)\n",
        "        #print(img_output.shape)\n",
        "        #print(sample_timestep(img, t).device)\n",
        "    #imgs = torch.stack(imgs, dim=0)\n",
        "    FID = get_fid(imgs, './mnist.npz',device=device, use_torch=True)\n",
        "                \n",
        "    return FID\n",
        "#device = \"cuda:3\"\n",
        "test(model, device, IMG_SIZE, betas, sqrt_one_minus_alphas_cumprod, sqrt_recip_alphas,posterior_variance)"
      ]
    },
    {
      "cell_type": "code",
      "execution_count": 2,
      "metadata": {},
      "outputs": [
        {
          "name": "stdout",
          "output_type": "stream",
          "text": [
            "[NbConvertApp] Converting notebook diffusion_model.ipynb to script\n",
            "[NbConvertApp] Writing 14922 bytes to diffusion_model.py\n"
          ]
        }
      ],
      "source": [
        "!jupyter nbconvert --to script diffusion_model.ipynb"
      ]
    },
    {
      "cell_type": "markdown",
      "metadata": {
        "id": "QwaGZBrvdJSa"
      },
      "source": [
        "In Table 2, we show the sample quality effects of reverse process parameterizations and training\n",
        "objectives (Section 3.2). We find that the baseline option of predicting µ˜ works well only when\n",
        "trained on the true variational bound instead of unweighted mean squared error, a simplified objective\n",
        "akin to Eq. (14). We also see that learning reverse process variances (by incorporating a parameterized\n",
        "diagonal Σθ(xt) into the variational bound) leads to unstable training and poorer sample quality\n",
        "compared to fixed variances. Predicting \u000f, as we proposed, performs approximately as well as\n",
        "predicting µ˜ when trained on the variational bound with fixed variances, but much better when trained\n",
        "with our simplified objective.\n"
      ]
    },
    {
      "cell_type": "markdown",
      "metadata": {
        "id": "VMKaY1SSfjHA"
      },
      "source": [
        "iffusion models scale down the data with each forward process step (by a √\n",
        "1 − βt factor)\n",
        "so that variance does not grow when adding noise, thus providing consistently scaled inputs\n",
        "to the neural net reverse process. NCSN omits this scaling factor.\n"
      ]
    },
    {
      "cell_type": "code",
      "execution_count": 2,
      "metadata": {
        "id": "QEwOXsxCdJtU"
      },
      "outputs": [
        {
          "name": "stdout",
          "output_type": "stream",
          "text": [
            "torch.Size([5, 3, 28, 28])\n",
            "torch.Size([10, 3, 28, 28])\n"
          ]
        }
      ],
      "source": [
        "import torch\n",
        "ab = torch.tensor([])\n",
        "a = torch.randn((5,3,28,28))\n",
        "b = torch.randn((5,3,28,28))\n",
        "c = torch.randn((5,3,28,28))\n",
        "ab = torch.cat((ab,a))\n",
        "abc = torch.cat((ab,c))\n",
        "print(ab.shape)\n",
        "print(abc.shape)"
      ]
    },
    {
      "cell_type": "code",
      "execution_count": 7,
      "metadata": {},
      "outputs": [],
      "source": [
        "import math\n",
        "import copy\n",
        "from pathlib import Path\n",
        "from random import random\n",
        "from functools import partial\n",
        "from collections import namedtuple\n",
        "from multiprocessing import cpu_count\n",
        "\n",
        "import torch\n",
        "from torch import nn, einsum\n",
        "import torch.nn.functional as F\n",
        "from torch.utils.data import Dataset, DataLoader\n",
        "\n",
        "from torch.optim import Adam\n",
        "from torchvision import transforms as T, utils\n",
        "\n",
        "from einops import rearrange, reduce\n",
        "from einops.layers.torch import Rearrange\n",
        "\n",
        "from PIL import Image\n",
        "from tqdm.auto import tqdm\n",
        "#from ema_pytorch import EMA\n",
        "\n",
        "#from accelerate import Accelerator\n",
        "\n",
        "#from denoising_diffusion_pytorch.version import __version__\n",
        "\n",
        "# constants\n",
        "\n",
        "ModelPrediction =  namedtuple('ModelPrediction', ['pred_noise', 'pred_x_start'])\n",
        "\n",
        "# helpers functions\n",
        "\n",
        "def exists(x):\n",
        "    return x is not None\n",
        "\n",
        "def default(val, d):\n",
        "    if exists(val):\n",
        "        return val\n",
        "    return d() if callable(d) else d\n",
        "\n",
        "def identity(t, *args, **kwargs):\n",
        "    return t\n",
        "\n",
        "def cycle(dl):\n",
        "    while True:\n",
        "        for data in dl:\n",
        "            yield data\n",
        "\n",
        "def has_int_squareroot(num):\n",
        "    return (math.sqrt(num) ** 2) == num\n",
        "\n",
        "def num_to_groups(num, divisor):\n",
        "    groups = num // divisor\n",
        "    remainder = num % divisor\n",
        "    arr = [divisor] * groups\n",
        "    if remainder > 0:\n",
        "        arr.append(remainder)\n",
        "    return arr\n",
        "\n",
        "def convert_image_to_fn(img_type, image):\n",
        "    if image.mode != img_type:\n",
        "        return image.convert(img_type)\n",
        "    return image\n",
        "\n",
        "# normalization functions\n",
        "\n",
        "def normalize_to_neg_one_to_one(img):\n",
        "    return img * 2 - 1\n",
        "\n",
        "def unnormalize_to_zero_to_one(t):\n",
        "    return (t + 1) * 0.5\n",
        "\n",
        "# small helper modules\n",
        "\n",
        "class Residual(nn.Module):\n",
        "    def __init__(self, fn):\n",
        "        super().__init__()\n",
        "        self.fn = fn\n",
        "\n",
        "    def forward(self, x, *args, **kwargs):\n",
        "        return self.fn(x, *args, **kwargs) + x\n",
        "\n",
        "def Upsample(dim, dim_out = None):\n",
        "    return nn.Sequential(\n",
        "        nn.Upsample(scale_factor = 2, mode = 'nearest'),\n",
        "        nn.Conv2d(dim, default(dim_out, dim), 3, padding = 1)\n",
        "    )\n",
        "\n",
        "def Downsample(dim, dim_out = None):\n",
        "    return nn.Sequential(\n",
        "        Rearrange('b c (h p1) (w p2) -> b (c p1 p2) h w', p1 = 2, p2 = 2),\n",
        "        nn.Conv2d(dim * 4, default(dim_out, dim), 1)\n",
        "    )\n",
        "\n",
        "class WeightStandardizedConv2d(nn.Conv2d):\n",
        "    \"\"\"\n",
        "    https://arxiv.org/abs/1903.10520\n",
        "    weight standardization purportedly works synergistically with group normalization\n",
        "    \"\"\"\n",
        "    def forward(self, x):\n",
        "        eps = 1e-5 if x.dtype == torch.float32 else 1e-3\n",
        "\n",
        "        weight = self.weight\n",
        "        mean = reduce(weight, 'o ... -> o 1 1 1', 'mean')\n",
        "        var = reduce(weight, 'o ... -> o 1 1 1', partial(torch.var, unbiased = False))\n",
        "        normalized_weight = (weight - mean) * (var + eps).rsqrt()\n",
        "\n",
        "        return F.conv2d(x, normalized_weight, self.bias, self.stride, self.padding, self.dilation, self.groups)\n",
        "\n",
        "class LayerNorm(nn.Module):\n",
        "    def __init__(self, dim):\n",
        "        super().__init__()\n",
        "        self.g = nn.Parameter(torch.ones(1, dim, 1, 1))\n",
        "\n",
        "    def forward(self, x):\n",
        "        eps = 1e-5 if x.dtype == torch.float32 else 1e-3\n",
        "        var = torch.var(x, dim = 1, unbiased = False, keepdim = True)\n",
        "        mean = torch.mean(x, dim = 1, keepdim = True)\n",
        "        return (x - mean) * (var + eps).rsqrt() * self.g\n",
        "\n",
        "class PreNorm(nn.Module):\n",
        "    def __init__(self, dim, fn):\n",
        "        super().__init__()\n",
        "        self.fn = fn\n",
        "        self.norm = LayerNorm(dim)\n",
        "\n",
        "    def forward(self, x):\n",
        "        x = self.norm(x)\n",
        "        return self.fn(x)\n",
        "\n",
        "# sinusoidal positional embeds\n",
        "\n",
        "class SinusoidalPosEmb(nn.Module):\n",
        "    def __init__(self, dim):\n",
        "        super().__init__()\n",
        "        self.dim = dim\n",
        "\n",
        "    def forward(self, x):\n",
        "        device = x.device\n",
        "        half_dim = self.dim // 2\n",
        "        emb = math.log(10000) / (half_dim - 1)\n",
        "        emb = torch.exp(torch.arange(half_dim, device=device) * -emb)\n",
        "        emb = x[:, None] * emb[None, :]\n",
        "        emb = torch.cat((emb.sin(), emb.cos()), dim=-1)\n",
        "        return emb\n",
        "\n",
        "class RandomOrLearnedSinusoidalPosEmb(nn.Module):\n",
        "    \"\"\" following @crowsonkb 's lead with random (learned optional) sinusoidal pos emb \"\"\"\n",
        "    \"\"\" https://github.com/crowsonkb/v-diffusion-jax/blob/master/diffusion/models/danbooru_128.py#L8 \"\"\"\n",
        "\n",
        "    def __init__(self, dim, is_random = False):\n",
        "        super().__init__()\n",
        "        assert (dim % 2) == 0\n",
        "        half_dim = dim // 2\n",
        "        self.weights = nn.Parameter(torch.randn(half_dim), requires_grad = not is_random)\n",
        "\n",
        "    def forward(self, x):\n",
        "        x = rearrange(x, 'b -> b 1')\n",
        "        freqs = x * rearrange(self.weights, 'd -> 1 d') * 2 * math.pi\n",
        "        fouriered = torch.cat((freqs.sin(), freqs.cos()), dim = -1)\n",
        "        fouriered = torch.cat((x, fouriered), dim = -1)\n",
        "        return fouriered\n",
        "\n",
        "# building block modules\n",
        "\n",
        "class Block(nn.Module):\n",
        "    def __init__(self, dim, dim_out, groups = 8):\n",
        "        super().__init__()\n",
        "        self.proj = WeightStandardizedConv2d(dim, dim_out, 3, padding = 1)\n",
        "        self.norm = nn.GroupNorm(groups, dim_out)\n",
        "        self.act = nn.SiLU()\n",
        "\n",
        "    def forward(self, x, scale_shift = None):\n",
        "        x = self.proj(x)\n",
        "        x = self.norm(x)\n",
        "\n",
        "        if exists(scale_shift):\n",
        "            scale, shift = scale_shift\n",
        "            x = x * (scale + 1) + shift\n",
        "\n",
        "        x = self.act(x)\n",
        "        return x\n",
        "\n",
        "class ResnetBlock(nn.Module):\n",
        "    def __init__(self, dim, dim_out, *, time_emb_dim = None, groups = 8):\n",
        "        super().__init__()\n",
        "        self.mlp = nn.Sequential(\n",
        "            nn.SiLU(),\n",
        "            nn.Linear(time_emb_dim, dim_out * 2)\n",
        "        ) if exists(time_emb_dim) else None\n",
        "\n",
        "        self.block1 = Block(dim, dim_out, groups = groups)\n",
        "        self.block2 = Block(dim_out, dim_out, groups = groups)\n",
        "        self.res_conv = nn.Conv2d(dim, dim_out, 1) if dim != dim_out else nn.Identity()\n",
        "\n",
        "    def forward(self, x, time_emb = None):\n",
        "\n",
        "        scale_shift = None\n",
        "        if exists(self.mlp) and exists(time_emb):\n",
        "            time_emb = self.mlp(time_emb)\n",
        "            time_emb = rearrange(time_emb, 'b c -> b c 1 1')\n",
        "            scale_shift = time_emb.chunk(2, dim = 1)\n",
        "\n",
        "        h = self.block1(x, scale_shift = scale_shift)\n",
        "\n",
        "        h = self.block2(h)\n",
        "\n",
        "        return h + self.res_conv(x)\n",
        "\n",
        "class LinearAttention(nn.Module):\n",
        "    def __init__(self, dim, heads = 4, dim_head = 32):\n",
        "        super().__init__()\n",
        "        self.scale = dim_head ** -0.5\n",
        "        self.heads = heads\n",
        "        hidden_dim = dim_head * heads\n",
        "        self.to_qkv = nn.Conv2d(dim, hidden_dim * 3, 1, bias = False)\n",
        "\n",
        "        self.to_out = nn.Sequential(\n",
        "            nn.Conv2d(hidden_dim, dim, 1),\n",
        "            LayerNorm(dim)\n",
        "        )\n",
        "\n",
        "    def forward(self, x):\n",
        "        b, c, h, w = x.shape\n",
        "        qkv = self.to_qkv(x).chunk(3, dim = 1)\n",
        "        q, k, v = map(lambda t: rearrange(t, 'b (h c) x y -> b h c (x y)', h = self.heads), qkv)\n",
        "\n",
        "        q = q.softmax(dim = -2)\n",
        "        k = k.softmax(dim = -1)\n",
        "\n",
        "        q = q * self.scale\n",
        "        v = v / (h * w)\n",
        "\n",
        "        context = torch.einsum('b h d n, b h e n -> b h d e', k, v)\n",
        "\n",
        "        out = torch.einsum('b h d e, b h d n -> b h e n', context, q)\n",
        "        out = rearrange(out, 'b h c (x y) -> b (h c) x y', h = self.heads, x = h, y = w)\n",
        "        return self.to_out(out)\n",
        "\n",
        "class Attention(nn.Module):\n",
        "    def __init__(self, dim, heads = 4, dim_head = 32):\n",
        "        super().__init__()\n",
        "        self.scale = dim_head ** -0.5\n",
        "        self.heads = heads\n",
        "        hidden_dim = dim_head * heads\n",
        "\n",
        "        self.to_qkv = nn.Conv2d(dim, hidden_dim * 3, 1, bias = False)\n",
        "        self.to_out = nn.Conv2d(hidden_dim, dim, 1)\n",
        "\n",
        "    def forward(self, x):\n",
        "        b, c, h, w = x.shape\n",
        "        qkv = self.to_qkv(x).chunk(3, dim = 1)\n",
        "        q, k, v = map(lambda t: rearrange(t, 'b (h c) x y -> b h c (x y)', h = self.heads), qkv)\n",
        "\n",
        "        q = q * self.scale\n",
        "\n",
        "        sim = einsum('b h d i, b h d j -> b h i j', q, k)\n",
        "        attn = sim.softmax(dim = -1)\n",
        "        out = einsum('b h i j, b h d j -> b h i d', attn, v)\n",
        "\n",
        "        out = rearrange(out, 'b h (x y) d -> b (h d) x y', x = h, y = w)\n",
        "        return self.to_out(out)\n",
        "\n",
        "# model\n",
        "\n",
        "class Unet(nn.Module):\n",
        "    def __init__(\n",
        "        self,\n",
        "        dim,\n",
        "        init_dim = None,\n",
        "        out_dim = None,\n",
        "        dim_mults=(1, 2, 4, 8),\n",
        "        channels = 3,\n",
        "        self_condition = False,\n",
        "        resnet_block_groups = 8,\n",
        "        learned_variance = False,\n",
        "        learned_sinusoidal_cond = False,\n",
        "        random_fourier_features = False,\n",
        "        learned_sinusoidal_dim = 16\n",
        "    ):\n",
        "        super().__init__()\n",
        "\n",
        "        # determine dimensions\n",
        "\n",
        "        self.channels = channels\n",
        "        self.self_condition = self_condition\n",
        "        input_channels = channels * (2 if self_condition else 1)\n",
        "\n",
        "        init_dim = default(init_dim, dim)\n",
        "        self.init_conv = nn.Conv2d(input_channels, init_dim, 7, padding = 3)\n",
        "\n",
        "        dims = [init_dim, *map(lambda m: dim * m, dim_mults)]\n",
        "        in_out = list(zip(dims[:-1], dims[1:]))\n",
        "\n",
        "        block_klass = partial(ResnetBlock, groups = resnet_block_groups)\n",
        "\n",
        "        # time embeddings\n",
        "\n",
        "        time_dim = dim * 4\n",
        "\n",
        "        self.random_or_learned_sinusoidal_cond = learned_sinusoidal_cond or random_fourier_features\n",
        "\n",
        "        if self.random_or_learned_sinusoidal_cond:\n",
        "            sinu_pos_emb = RandomOrLearnedSinusoidalPosEmb(learned_sinusoidal_dim, random_fourier_features)\n",
        "            fourier_dim = learned_sinusoidal_dim + 1\n",
        "        else:\n",
        "            sinu_pos_emb = SinusoidalPosEmb(dim)\n",
        "            fourier_dim = dim\n",
        "\n",
        "        self.time_mlp = nn.Sequential(\n",
        "            sinu_pos_emb,\n",
        "            nn.Linear(fourier_dim, time_dim),\n",
        "            nn.GELU(),\n",
        "            nn.Linear(time_dim, time_dim)\n",
        "        )\n",
        "\n",
        "        # layers\n",
        "\n",
        "        self.downs = nn.ModuleList([])\n",
        "        self.ups = nn.ModuleList([])\n",
        "        num_resolutions = len(in_out)\n",
        "\n",
        "        for ind, (dim_in, dim_out) in enumerate(in_out):\n",
        "            is_last = ind >= (num_resolutions - 1)\n",
        "\n",
        "            self.downs.append(nn.ModuleList([\n",
        "                block_klass(dim_in, dim_in, time_emb_dim = time_dim),\n",
        "                block_klass(dim_in, dim_in, time_emb_dim = time_dim),\n",
        "                Residual(PreNorm(dim_in, LinearAttention(dim_in))),\n",
        "                Downsample(dim_in, dim_out) if not is_last else nn.Conv2d(dim_in, dim_out, 3, padding = 1)\n",
        "            ]))\n",
        "\n",
        "        mid_dim = dims[-1]\n",
        "        self.mid_block1 = block_klass(mid_dim, mid_dim, time_emb_dim = time_dim)\n",
        "        self.mid_attn = Residual(PreNorm(mid_dim, Attention(mid_dim)))\n",
        "        self.mid_block2 = block_klass(mid_dim, mid_dim, time_emb_dim = time_dim)\n",
        "\n",
        "        for ind, (dim_in, dim_out) in enumerate(reversed(in_out)):\n",
        "            is_last = ind == (len(in_out) - 1)\n",
        "\n",
        "            self.ups.append(nn.ModuleList([\n",
        "                block_klass(dim_out + dim_in, dim_out, time_emb_dim = time_dim),\n",
        "                block_klass(dim_out + dim_in, dim_out, time_emb_dim = time_dim),\n",
        "                Residual(PreNorm(dim_out, LinearAttention(dim_out))),\n",
        "                Upsample(dim_out, dim_in) if not is_last else  nn.Conv2d(dim_out, dim_in, 3, padding = 1)\n",
        "            ]))\n",
        "\n",
        "        default_out_dim = channels * (1 if not learned_variance else 2)\n",
        "        self.out_dim = default(out_dim, default_out_dim)\n",
        "\n",
        "        self.final_res_block = block_klass(dim * 2, dim, time_emb_dim = time_dim)\n",
        "        self.final_conv = nn.Conv2d(dim, self.out_dim, 1)\n",
        "\n",
        "    def forward(self, x, time, x_self_cond = None):\n",
        "        if self.self_condition:\n",
        "            x_self_cond = default(x_self_cond, lambda: torch.zeros_like(x))\n",
        "            x = torch.cat((x_self_cond, x), dim = 1)\n",
        "\n",
        "        x = self.init_conv(x)\n",
        "        r = x.clone()\n",
        "\n",
        "        t = self.time_mlp(time)\n",
        "\n",
        "        h = []\n",
        "\n",
        "        for block1, block2, attn, downsample in self.downs:\n",
        "            x = block1(x, t)\n",
        "            h.append(x)\n",
        "\n",
        "            x = block2(x, t)\n",
        "            x = attn(x)\n",
        "            h.append(x)\n",
        "\n",
        "            x = downsample(x)\n",
        "\n",
        "        x = self.mid_block1(x, t)\n",
        "        x = self.mid_attn(x)\n",
        "        x = self.mid_block2(x, t)\n",
        "\n",
        "        for block1, block2, attn, upsample in self.ups:\n",
        "            x = torch.cat((x, h.pop()), dim = 1)\n",
        "            x = block1(x, t)\n",
        "\n",
        "            x = torch.cat((x, h.pop()), dim = 1)\n",
        "            x = block2(x, t)\n",
        "            x = attn(x)\n",
        "\n",
        "            x = upsample(x)\n",
        "\n",
        "        x = torch.cat((x, r), dim = 1)\n",
        "\n",
        "        x = self.final_res_block(x, t)\n",
        "        return self.final_conv(x)"
      ]
    },
    {
      "cell_type": "code",
      "execution_count": 12,
      "metadata": {},
      "outputs": [
        {
          "name": "stdout",
          "output_type": "stream",
          "text": [
            "torch.Size([1, 3, 28, 28])\n",
            "Num params:  9901699\n"
          ]
        },
        {
          "data": {
            "text/plain": [
              "Unet(\n",
              "  (init_conv): Conv2d(3, 64, kernel_size=(7, 7), stride=(1, 1), padding=(3, 3))\n",
              "  (time_mlp): Sequential(\n",
              "    (0): SinusoidalPosEmb()\n",
              "    (1): Linear(in_features=64, out_features=256, bias=True)\n",
              "    (2): GELU(approximate='none')\n",
              "    (3): Linear(in_features=256, out_features=256, bias=True)\n",
              "  )\n",
              "  (downs): ModuleList(\n",
              "    (0): ModuleList(\n",
              "      (0): ResnetBlock(\n",
              "        (mlp): Sequential(\n",
              "          (0): SiLU()\n",
              "          (1): Linear(in_features=256, out_features=128, bias=True)\n",
              "        )\n",
              "        (block1): Block(\n",
              "          (proj): WeightStandardizedConv2d(64, 64, kernel_size=(3, 3), stride=(1, 1), padding=(1, 1))\n",
              "          (norm): GroupNorm(8, 64, eps=1e-05, affine=True)\n",
              "          (act): SiLU()\n",
              "        )\n",
              "        (block2): Block(\n",
              "          (proj): WeightStandardizedConv2d(64, 64, kernel_size=(3, 3), stride=(1, 1), padding=(1, 1))\n",
              "          (norm): GroupNorm(8, 64, eps=1e-05, affine=True)\n",
              "          (act): SiLU()\n",
              "        )\n",
              "        (res_conv): Identity()\n",
              "      )\n",
              "      (1): ResnetBlock(\n",
              "        (mlp): Sequential(\n",
              "          (0): SiLU()\n",
              "          (1): Linear(in_features=256, out_features=128, bias=True)\n",
              "        )\n",
              "        (block1): Block(\n",
              "          (proj): WeightStandardizedConv2d(64, 64, kernel_size=(3, 3), stride=(1, 1), padding=(1, 1))\n",
              "          (norm): GroupNorm(8, 64, eps=1e-05, affine=True)\n",
              "          (act): SiLU()\n",
              "        )\n",
              "        (block2): Block(\n",
              "          (proj): WeightStandardizedConv2d(64, 64, kernel_size=(3, 3), stride=(1, 1), padding=(1, 1))\n",
              "          (norm): GroupNorm(8, 64, eps=1e-05, affine=True)\n",
              "          (act): SiLU()\n",
              "        )\n",
              "        (res_conv): Identity()\n",
              "      )\n",
              "      (2): Residual(\n",
              "        (fn): PreNorm(\n",
              "          (fn): LinearAttention(\n",
              "            (to_qkv): Conv2d(64, 384, kernel_size=(1, 1), stride=(1, 1), bias=False)\n",
              "            (to_out): Sequential(\n",
              "              (0): Conv2d(128, 64, kernel_size=(1, 1), stride=(1, 1))\n",
              "              (1): LayerNorm()\n",
              "            )\n",
              "          )\n",
              "          (norm): LayerNorm()\n",
              "        )\n",
              "      )\n",
              "      (3): Sequential(\n",
              "        (0): Rearrange('b c (h p1) (w p2) -> b (c p1 p2) h w', p1=2, p2=2)\n",
              "        (1): Conv2d(256, 64, kernel_size=(1, 1), stride=(1, 1))\n",
              "      )\n",
              "    )\n",
              "    (1): ModuleList(\n",
              "      (0): ResnetBlock(\n",
              "        (mlp): Sequential(\n",
              "          (0): SiLU()\n",
              "          (1): Linear(in_features=256, out_features=128, bias=True)\n",
              "        )\n",
              "        (block1): Block(\n",
              "          (proj): WeightStandardizedConv2d(64, 64, kernel_size=(3, 3), stride=(1, 1), padding=(1, 1))\n",
              "          (norm): GroupNorm(8, 64, eps=1e-05, affine=True)\n",
              "          (act): SiLU()\n",
              "        )\n",
              "        (block2): Block(\n",
              "          (proj): WeightStandardizedConv2d(64, 64, kernel_size=(3, 3), stride=(1, 1), padding=(1, 1))\n",
              "          (norm): GroupNorm(8, 64, eps=1e-05, affine=True)\n",
              "          (act): SiLU()\n",
              "        )\n",
              "        (res_conv): Identity()\n",
              "      )\n",
              "      (1): ResnetBlock(\n",
              "        (mlp): Sequential(\n",
              "          (0): SiLU()\n",
              "          (1): Linear(in_features=256, out_features=128, bias=True)\n",
              "        )\n",
              "        (block1): Block(\n",
              "          (proj): WeightStandardizedConv2d(64, 64, kernel_size=(3, 3), stride=(1, 1), padding=(1, 1))\n",
              "          (norm): GroupNorm(8, 64, eps=1e-05, affine=True)\n",
              "          (act): SiLU()\n",
              "        )\n",
              "        (block2): Block(\n",
              "          (proj): WeightStandardizedConv2d(64, 64, kernel_size=(3, 3), stride=(1, 1), padding=(1, 1))\n",
              "          (norm): GroupNorm(8, 64, eps=1e-05, affine=True)\n",
              "          (act): SiLU()\n",
              "        )\n",
              "        (res_conv): Identity()\n",
              "      )\n",
              "      (2): Residual(\n",
              "        (fn): PreNorm(\n",
              "          (fn): LinearAttention(\n",
              "            (to_qkv): Conv2d(64, 384, kernel_size=(1, 1), stride=(1, 1), bias=False)\n",
              "            (to_out): Sequential(\n",
              "              (0): Conv2d(128, 64, kernel_size=(1, 1), stride=(1, 1))\n",
              "              (1): LayerNorm()\n",
              "            )\n",
              "          )\n",
              "          (norm): LayerNorm()\n",
              "        )\n",
              "      )\n",
              "      (3): Sequential(\n",
              "        (0): Rearrange('b c (h p1) (w p2) -> b (c p1 p2) h w', p1=2, p2=2)\n",
              "        (1): Conv2d(256, 128, kernel_size=(1, 1), stride=(1, 1))\n",
              "      )\n",
              "    )\n",
              "    (2): ModuleList(\n",
              "      (0): ResnetBlock(\n",
              "        (mlp): Sequential(\n",
              "          (0): SiLU()\n",
              "          (1): Linear(in_features=256, out_features=256, bias=True)\n",
              "        )\n",
              "        (block1): Block(\n",
              "          (proj): WeightStandardizedConv2d(128, 128, kernel_size=(3, 3), stride=(1, 1), padding=(1, 1))\n",
              "          (norm): GroupNorm(8, 128, eps=1e-05, affine=True)\n",
              "          (act): SiLU()\n",
              "        )\n",
              "        (block2): Block(\n",
              "          (proj): WeightStandardizedConv2d(128, 128, kernel_size=(3, 3), stride=(1, 1), padding=(1, 1))\n",
              "          (norm): GroupNorm(8, 128, eps=1e-05, affine=True)\n",
              "          (act): SiLU()\n",
              "        )\n",
              "        (res_conv): Identity()\n",
              "      )\n",
              "      (1): ResnetBlock(\n",
              "        (mlp): Sequential(\n",
              "          (0): SiLU()\n",
              "          (1): Linear(in_features=256, out_features=256, bias=True)\n",
              "        )\n",
              "        (block1): Block(\n",
              "          (proj): WeightStandardizedConv2d(128, 128, kernel_size=(3, 3), stride=(1, 1), padding=(1, 1))\n",
              "          (norm): GroupNorm(8, 128, eps=1e-05, affine=True)\n",
              "          (act): SiLU()\n",
              "        )\n",
              "        (block2): Block(\n",
              "          (proj): WeightStandardizedConv2d(128, 128, kernel_size=(3, 3), stride=(1, 1), padding=(1, 1))\n",
              "          (norm): GroupNorm(8, 128, eps=1e-05, affine=True)\n",
              "          (act): SiLU()\n",
              "        )\n",
              "        (res_conv): Identity()\n",
              "      )\n",
              "      (2): Residual(\n",
              "        (fn): PreNorm(\n",
              "          (fn): LinearAttention(\n",
              "            (to_qkv): Conv2d(128, 384, kernel_size=(1, 1), stride=(1, 1), bias=False)\n",
              "            (to_out): Sequential(\n",
              "              (0): Conv2d(128, 128, kernel_size=(1, 1), stride=(1, 1))\n",
              "              (1): LayerNorm()\n",
              "            )\n",
              "          )\n",
              "          (norm): LayerNorm()\n",
              "        )\n",
              "      )\n",
              "      (3): Conv2d(128, 256, kernel_size=(3, 3), stride=(1, 1), padding=(1, 1))\n",
              "    )\n",
              "  )\n",
              "  (ups): ModuleList(\n",
              "    (0): ModuleList(\n",
              "      (0): ResnetBlock(\n",
              "        (mlp): Sequential(\n",
              "          (0): SiLU()\n",
              "          (1): Linear(in_features=256, out_features=512, bias=True)\n",
              "        )\n",
              "        (block1): Block(\n",
              "          (proj): WeightStandardizedConv2d(384, 256, kernel_size=(3, 3), stride=(1, 1), padding=(1, 1))\n",
              "          (norm): GroupNorm(8, 256, eps=1e-05, affine=True)\n",
              "          (act): SiLU()\n",
              "        )\n",
              "        (block2): Block(\n",
              "          (proj): WeightStandardizedConv2d(256, 256, kernel_size=(3, 3), stride=(1, 1), padding=(1, 1))\n",
              "          (norm): GroupNorm(8, 256, eps=1e-05, affine=True)\n",
              "          (act): SiLU()\n",
              "        )\n",
              "        (res_conv): Conv2d(384, 256, kernel_size=(1, 1), stride=(1, 1))\n",
              "      )\n",
              "      (1): ResnetBlock(\n",
              "        (mlp): Sequential(\n",
              "          (0): SiLU()\n",
              "          (1): Linear(in_features=256, out_features=512, bias=True)\n",
              "        )\n",
              "        (block1): Block(\n",
              "          (proj): WeightStandardizedConv2d(384, 256, kernel_size=(3, 3), stride=(1, 1), padding=(1, 1))\n",
              "          (norm): GroupNorm(8, 256, eps=1e-05, affine=True)\n",
              "          (act): SiLU()\n",
              "        )\n",
              "        (block2): Block(\n",
              "          (proj): WeightStandardizedConv2d(256, 256, kernel_size=(3, 3), stride=(1, 1), padding=(1, 1))\n",
              "          (norm): GroupNorm(8, 256, eps=1e-05, affine=True)\n",
              "          (act): SiLU()\n",
              "        )\n",
              "        (res_conv): Conv2d(384, 256, kernel_size=(1, 1), stride=(1, 1))\n",
              "      )\n",
              "      (2): Residual(\n",
              "        (fn): PreNorm(\n",
              "          (fn): LinearAttention(\n",
              "            (to_qkv): Conv2d(256, 384, kernel_size=(1, 1), stride=(1, 1), bias=False)\n",
              "            (to_out): Sequential(\n",
              "              (0): Conv2d(128, 256, kernel_size=(1, 1), stride=(1, 1))\n",
              "              (1): LayerNorm()\n",
              "            )\n",
              "          )\n",
              "          (norm): LayerNorm()\n",
              "        )\n",
              "      )\n",
              "      (3): Sequential(\n",
              "        (0): Upsample(scale_factor=2.0, mode=nearest)\n",
              "        (1): Conv2d(256, 128, kernel_size=(3, 3), stride=(1, 1), padding=(1, 1))\n",
              "      )\n",
              "    )\n",
              "    (1): ModuleList(\n",
              "      (0): ResnetBlock(\n",
              "        (mlp): Sequential(\n",
              "          (0): SiLU()\n",
              "          (1): Linear(in_features=256, out_features=256, bias=True)\n",
              "        )\n",
              "        (block1): Block(\n",
              "          (proj): WeightStandardizedConv2d(192, 128, kernel_size=(3, 3), stride=(1, 1), padding=(1, 1))\n",
              "          (norm): GroupNorm(8, 128, eps=1e-05, affine=True)\n",
              "          (act): SiLU()\n",
              "        )\n",
              "        (block2): Block(\n",
              "          (proj): WeightStandardizedConv2d(128, 128, kernel_size=(3, 3), stride=(1, 1), padding=(1, 1))\n",
              "          (norm): GroupNorm(8, 128, eps=1e-05, affine=True)\n",
              "          (act): SiLU()\n",
              "        )\n",
              "        (res_conv): Conv2d(192, 128, kernel_size=(1, 1), stride=(1, 1))\n",
              "      )\n",
              "      (1): ResnetBlock(\n",
              "        (mlp): Sequential(\n",
              "          (0): SiLU()\n",
              "          (1): Linear(in_features=256, out_features=256, bias=True)\n",
              "        )\n",
              "        (block1): Block(\n",
              "          (proj): WeightStandardizedConv2d(192, 128, kernel_size=(3, 3), stride=(1, 1), padding=(1, 1))\n",
              "          (norm): GroupNorm(8, 128, eps=1e-05, affine=True)\n",
              "          (act): SiLU()\n",
              "        )\n",
              "        (block2): Block(\n",
              "          (proj): WeightStandardizedConv2d(128, 128, kernel_size=(3, 3), stride=(1, 1), padding=(1, 1))\n",
              "          (norm): GroupNorm(8, 128, eps=1e-05, affine=True)\n",
              "          (act): SiLU()\n",
              "        )\n",
              "        (res_conv): Conv2d(192, 128, kernel_size=(1, 1), stride=(1, 1))\n",
              "      )\n",
              "      (2): Residual(\n",
              "        (fn): PreNorm(\n",
              "          (fn): LinearAttention(\n",
              "            (to_qkv): Conv2d(128, 384, kernel_size=(1, 1), stride=(1, 1), bias=False)\n",
              "            (to_out): Sequential(\n",
              "              (0): Conv2d(128, 128, kernel_size=(1, 1), stride=(1, 1))\n",
              "              (1): LayerNorm()\n",
              "            )\n",
              "          )\n",
              "          (norm): LayerNorm()\n",
              "        )\n",
              "      )\n",
              "      (3): Sequential(\n",
              "        (0): Upsample(scale_factor=2.0, mode=nearest)\n",
              "        (1): Conv2d(128, 64, kernel_size=(3, 3), stride=(1, 1), padding=(1, 1))\n",
              "      )\n",
              "    )\n",
              "    (2): ModuleList(\n",
              "      (0): ResnetBlock(\n",
              "        (mlp): Sequential(\n",
              "          (0): SiLU()\n",
              "          (1): Linear(in_features=256, out_features=128, bias=True)\n",
              "        )\n",
              "        (block1): Block(\n",
              "          (proj): WeightStandardizedConv2d(128, 64, kernel_size=(3, 3), stride=(1, 1), padding=(1, 1))\n",
              "          (norm): GroupNorm(8, 64, eps=1e-05, affine=True)\n",
              "          (act): SiLU()\n",
              "        )\n",
              "        (block2): Block(\n",
              "          (proj): WeightStandardizedConv2d(64, 64, kernel_size=(3, 3), stride=(1, 1), padding=(1, 1))\n",
              "          (norm): GroupNorm(8, 64, eps=1e-05, affine=True)\n",
              "          (act): SiLU()\n",
              "        )\n",
              "        (res_conv): Conv2d(128, 64, kernel_size=(1, 1), stride=(1, 1))\n",
              "      )\n",
              "      (1): ResnetBlock(\n",
              "        (mlp): Sequential(\n",
              "          (0): SiLU()\n",
              "          (1): Linear(in_features=256, out_features=128, bias=True)\n",
              "        )\n",
              "        (block1): Block(\n",
              "          (proj): WeightStandardizedConv2d(128, 64, kernel_size=(3, 3), stride=(1, 1), padding=(1, 1))\n",
              "          (norm): GroupNorm(8, 64, eps=1e-05, affine=True)\n",
              "          (act): SiLU()\n",
              "        )\n",
              "        (block2): Block(\n",
              "          (proj): WeightStandardizedConv2d(64, 64, kernel_size=(3, 3), stride=(1, 1), padding=(1, 1))\n",
              "          (norm): GroupNorm(8, 64, eps=1e-05, affine=True)\n",
              "          (act): SiLU()\n",
              "        )\n",
              "        (res_conv): Conv2d(128, 64, kernel_size=(1, 1), stride=(1, 1))\n",
              "      )\n",
              "      (2): Residual(\n",
              "        (fn): PreNorm(\n",
              "          (fn): LinearAttention(\n",
              "            (to_qkv): Conv2d(64, 384, kernel_size=(1, 1), stride=(1, 1), bias=False)\n",
              "            (to_out): Sequential(\n",
              "              (0): Conv2d(128, 64, kernel_size=(1, 1), stride=(1, 1))\n",
              "              (1): LayerNorm()\n",
              "            )\n",
              "          )\n",
              "          (norm): LayerNorm()\n",
              "        )\n",
              "      )\n",
              "      (3): Conv2d(64, 64, kernel_size=(3, 3), stride=(1, 1), padding=(1, 1))\n",
              "    )\n",
              "  )\n",
              "  (mid_block1): ResnetBlock(\n",
              "    (mlp): Sequential(\n",
              "      (0): SiLU()\n",
              "      (1): Linear(in_features=256, out_features=512, bias=True)\n",
              "    )\n",
              "    (block1): Block(\n",
              "      (proj): WeightStandardizedConv2d(256, 256, kernel_size=(3, 3), stride=(1, 1), padding=(1, 1))\n",
              "      (norm): GroupNorm(8, 256, eps=1e-05, affine=True)\n",
              "      (act): SiLU()\n",
              "    )\n",
              "    (block2): Block(\n",
              "      (proj): WeightStandardizedConv2d(256, 256, kernel_size=(3, 3), stride=(1, 1), padding=(1, 1))\n",
              "      (norm): GroupNorm(8, 256, eps=1e-05, affine=True)\n",
              "      (act): SiLU()\n",
              "    )\n",
              "    (res_conv): Identity()\n",
              "  )\n",
              "  (mid_attn): Residual(\n",
              "    (fn): PreNorm(\n",
              "      (fn): Attention(\n",
              "        (to_qkv): Conv2d(256, 384, kernel_size=(1, 1), stride=(1, 1), bias=False)\n",
              "        (to_out): Conv2d(128, 256, kernel_size=(1, 1), stride=(1, 1))\n",
              "      )\n",
              "      (norm): LayerNorm()\n",
              "    )\n",
              "  )\n",
              "  (mid_block2): ResnetBlock(\n",
              "    (mlp): Sequential(\n",
              "      (0): SiLU()\n",
              "      (1): Linear(in_features=256, out_features=512, bias=True)\n",
              "    )\n",
              "    (block1): Block(\n",
              "      (proj): WeightStandardizedConv2d(256, 256, kernel_size=(3, 3), stride=(1, 1), padding=(1, 1))\n",
              "      (norm): GroupNorm(8, 256, eps=1e-05, affine=True)\n",
              "      (act): SiLU()\n",
              "    )\n",
              "    (block2): Block(\n",
              "      (proj): WeightStandardizedConv2d(256, 256, kernel_size=(3, 3), stride=(1, 1), padding=(1, 1))\n",
              "      (norm): GroupNorm(8, 256, eps=1e-05, affine=True)\n",
              "      (act): SiLU()\n",
              "    )\n",
              "    (res_conv): Identity()\n",
              "  )\n",
              "  (final_res_block): ResnetBlock(\n",
              "    (mlp): Sequential(\n",
              "      (0): SiLU()\n",
              "      (1): Linear(in_features=256, out_features=128, bias=True)\n",
              "    )\n",
              "    (block1): Block(\n",
              "      (proj): WeightStandardizedConv2d(128, 64, kernel_size=(3, 3), stride=(1, 1), padding=(1, 1))\n",
              "      (norm): GroupNorm(8, 64, eps=1e-05, affine=True)\n",
              "      (act): SiLU()\n",
              "    )\n",
              "    (block2): Block(\n",
              "      (proj): WeightStandardizedConv2d(64, 64, kernel_size=(3, 3), stride=(1, 1), padding=(1, 1))\n",
              "      (norm): GroupNorm(8, 64, eps=1e-05, affine=True)\n",
              "      (act): SiLU()\n",
              "    )\n",
              "    (res_conv): Conv2d(128, 64, kernel_size=(1, 1), stride=(1, 1))\n",
              "  )\n",
              "  (final_conv): Conv2d(64, 3, kernel_size=(1, 1), stride=(1, 1))\n",
              ")"
            ]
          },
          "execution_count": 12,
          "metadata": {},
          "output_type": "execute_result"
        }
      ],
      "source": [
        "model = Unet(dim = 64,dim_mults = (1,2,4)).to(device)\n",
        "T=1000\n",
        "x = torch.randn((1,3,28,28)).to(device)\n",
        "t = torch.randint(0, T, (1,)).long().to(device)\n",
        "print(model(x,t).shape)\n",
        "print(\"Num params: \", sum(p.numel() for p in model.parameters()))\n",
        "model"
      ]
    }
  ],
  "metadata": {
    "accelerator": "GPU",
    "colab": {
      "collapsed_sections": [
        "wLHSIArLcFK0",
        "Rj17psVw7Shg",
        "buW6BaNga-XH",
        "8B9GlZrotBXy",
        "i7AZkYjKgQTm",
        "BIc33L9-uK4q"
      ],
      "provenance": []
    },
    "gpuClass": "standard",
    "kernelspec": {
      "display_name": "CCBDA_HW3env",
      "language": "python",
      "name": "python3"
    },
    "language_info": {
      "codemirror_mode": {
        "name": "ipython",
        "version": 3
      },
      "file_extension": ".py",
      "mimetype": "text/x-python",
      "name": "python",
      "nbconvert_exporter": "python",
      "pygments_lexer": "ipython3",
      "version": "3.8.10 (default, Jun 22 2022, 20:18:18) \n[GCC 9.4.0]"
    },
    "vscode": {
      "interpreter": {
        "hash": "6ae799f72a4385797fde21c86378e06ea9254954dab69d368062e58ffff4bf49"
      }
    }
  },
  "nbformat": 4,
  "nbformat_minor": 0
}
